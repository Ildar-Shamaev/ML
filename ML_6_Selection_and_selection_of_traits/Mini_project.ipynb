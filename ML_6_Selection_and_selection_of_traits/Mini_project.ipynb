{
 "cells": [
  {
   "cell_type": "code",
   "execution_count": 28,
   "metadata": {},
   "outputs": [],
   "source": [
    "import pandas as pd\n",
    "from sklearn.model_selection import train_test_split\n",
    "from sklearn.linear_model import LinearRegression\n",
    "from sklearn.metrics import mean_absolute_error\n",
    "from sklearn.feature_selection import RFE\n",
    "from sklearn import linear_model #линейные модели\n",
    "from sklearn import metrics #метрики\n",
    "from sklearn.feature_selection import SelectKBest, f_regression"
   ]
  },
  {
   "cell_type": "markdown",
   "metadata": {},
   "source": [
    "## Загрузка данных"
   ]
  },
  {
   "cell_type": "markdown",
   "metadata": {},
   "source": [
    "* price - Цена\n",
    "* year - Год производства\n",
    "* condition - Состояние\n",
    "* cylinders - Количество цилиндров\n",
    "* odometer - Пробег\n",
    "* title_status - Статус авто\n",
    "* transmission - Коробка передач\n",
    "* drive - Привод\n",
    "* size - Полноразмер или нет\n",
    "* lat - Широта\n",
    "* long - Долгота  \n",
    "* weather - Среднегодовая температура в городе продажи   \n"
   ]
  },
  {
   "cell_type": "code",
   "execution_count": 29,
   "metadata": {},
   "outputs": [],
   "source": [
    "data = pd.read_excel('data/data_ford_price.xlsx') "
   ]
  },
  {
   "cell_type": "code",
   "execution_count": 30,
   "metadata": {},
   "outputs": [
    {
     "name": "stdout",
     "output_type": "stream",
     "text": [
      "<class 'pandas.core.frame.DataFrame'>\n",
      "RangeIndex: 7017 entries, 0 to 7016\n",
      "Data columns (total 12 columns):\n",
      " #   Column        Non-Null Count  Dtype  \n",
      "---  ------        --------------  -----  \n",
      " 0   price         7017 non-null   int64  \n",
      " 1   year          7017 non-null   int64  \n",
      " 2   condition     7017 non-null   int64  \n",
      " 3   cylinders     7017 non-null   int64  \n",
      " 4   odometer      7017 non-null   int64  \n",
      " 5   title_status  7017 non-null   object \n",
      " 6   transmission  7017 non-null   object \n",
      " 7   drive         6626 non-null   object \n",
      " 8   size          5453 non-null   object \n",
      " 9   lat           7017 non-null   float64\n",
      " 10  long          7017 non-null   float64\n",
      " 11  weather       6837 non-null   float64\n",
      "dtypes: float64(3), int64(5), object(4)\n",
      "memory usage: 658.0+ KB\n"
     ]
    }
   ],
   "source": [
    "data.info()"
   ]
  },
  {
   "cell_type": "markdown",
   "metadata": {},
   "source": [
    "## Предобработка данных"
   ]
  },
  {
   "cell_type": "markdown",
   "metadata": {},
   "source": [
    "Удалим пропуски"
   ]
  },
  {
   "cell_type": "code",
   "execution_count": 31,
   "metadata": {},
   "outputs": [],
   "source": [
    "data = data[['price','year', 'cylinders', 'odometer', 'lat', 'long', 'weather']]\n",
    "data.dropna(inplace = True)"
   ]
  },
  {
   "cell_type": "code",
   "execution_count": 38,
   "metadata": {},
   "outputs": [
    {
     "name": "stdout",
     "output_type": "stream",
     "text": [
      "<class 'pandas.core.frame.DataFrame'>\n",
      "Index: 6837 entries, 0 to 7016\n",
      "Data columns (total 7 columns):\n",
      " #   Column     Non-Null Count  Dtype  \n",
      "---  ------     --------------  -----  \n",
      " 0   price      6837 non-null   int64  \n",
      " 1   year       6837 non-null   int64  \n",
      " 2   cylinders  6837 non-null   int64  \n",
      " 3   odometer   6837 non-null   int64  \n",
      " 4   lat        6837 non-null   float64\n",
      " 5   long       6837 non-null   float64\n",
      " 6   weather    6837 non-null   float64\n",
      "dtypes: float64(3), int64(4)\n",
      "memory usage: 427.3 KB\n"
     ]
    }
   ],
   "source": [
    "data.info()"
   ]
  },
  {
   "cell_type": "markdown",
   "metadata": {},
   "source": [
    "## Отбор признаков: классификация методов"
   ]
  },
  {
   "cell_type": "markdown",
   "metadata": {},
   "source": [
    "### Метод рекурсивного исключения признаков"
   ]
  },
  {
   "cell_type": "code",
   "execution_count": 32,
   "metadata": {},
   "outputs": [],
   "source": [
    "y = data['price']\n",
    "x = data.drop(columns='price')\n",
    "\n",
    "X_train, X_test, y_train, y_test = train_test_split(x, y, test_size=0.3, random_state=40)"
   ]
  },
  {
   "cell_type": "markdown",
   "metadata": {},
   "source": [
    "Выделим три наиболее значимых признака:"
   ]
  },
  {
   "cell_type": "code",
   "execution_count": 33,
   "metadata": {},
   "outputs": [
    {
     "name": "stdout",
     "output_type": "stream",
     "text": [
      "Index(['year', 'cylinders', 'lat'], dtype='object')\n",
      "Index(['year', 'cylinders', 'lat'], dtype='object')\n"
     ]
    }
   ],
   "source": [
    "estimator = LinearRegression()\n",
    "selector = RFE(estimator, n_features_to_select=3, step=1)\n",
    "selector = selector.fit(X_train, y_train)\n",
    " \n",
    "selector.get_feature_names_out()\n",
    "\n",
    "X_train = X_train[['year', 'cylinders', 'lat']]\n",
    "X_test = X_test[['year', 'cylinders', 'lat']]\n",
    "print(X_train.columns)\n",
    "print(X_test.columns)"
   ]
  },
  {
   "cell_type": "markdown",
   "metadata": {},
   "source": [
    "## Обучение модели"
   ]
  },
  {
   "cell_type": "code",
   "execution_count": 34,
   "metadata": {},
   "outputs": [
    {
     "name": "stdout",
     "output_type": "stream",
     "text": [
      "Train MAE score: 5283.260\n",
      "Test MAE score: 5096.570\n"
     ]
    }
   ],
   "source": [
    "#Создаём объект класса LinearRegression\n",
    "lr_model_rfe = linear_model.LinearRegression()\n",
    "\n",
    "#Обучаем модель по МНК\n",
    "lr_model_rfe.fit(X_train, y_train)\n",
    " \n",
    "#Делаем предсказание для тренировочной выборки\n",
    "y_train_predict = lr_model_rfe.predict(X_train)\n",
    "#Делаем предсказание для тестовой выборки\n",
    "y_test_predict = lr_model_rfe.predict(X_test)\n",
    " \n",
    "print(\"Train MAE score: {:.3f}\".format(metrics.mean_absolute_error(y_train, y_train_predict)))\n",
    "print(\"Test MAE score: {:.3f}\".format(metrics.mean_absolute_error(y_test, y_test_predict)))"
   ]
  },
  {
   "cell_type": "markdown",
   "metadata": {},
   "source": [
    "***"
   ]
  },
  {
   "cell_type": "markdown",
   "metadata": {},
   "source": [
    "## Методы выбора признаков на основе фильтров\n"
   ]
  },
  {
   "cell_type": "code",
   "execution_count": 35,
   "metadata": {},
   "outputs": [],
   "source": [
    "y = data['price']\n",
    "x = data.drop(columns='price')\n",
    "\n",
    "X_train, X_test, y_train, y_test = train_test_split(x, y, test_size=0.3, random_state=40)"
   ]
  },
  {
   "cell_type": "code",
   "execution_count": 36,
   "metadata": {},
   "outputs": [
    {
     "name": "stdout",
     "output_type": "stream",
     "text": [
      "Index(['year', 'cylinders', 'odometer'], dtype='object')\n",
      "Index(['year', 'cylinders', 'odometer'], dtype='object')\n"
     ]
    }
   ],
   "source": [
    "selector = SelectKBest(f_regression, k=3)\n",
    "selector.fit(X_train, y_train)\n",
    " \n",
    "selector.get_feature_names_out()\n",
    "\n",
    "X_train = X_train[['year', 'cylinders', 'odometer']]\n",
    "X_test = X_test[['year', 'cylinders', 'odometer']]\n",
    "print(X_train.columns)\n",
    "print(X_test.columns)"
   ]
  },
  {
   "cell_type": "markdown",
   "metadata": {},
   "source": [
    "## Обучение модели"
   ]
  },
  {
   "cell_type": "code",
   "execution_count": 37,
   "metadata": {},
   "outputs": [
    {
     "name": "stdout",
     "output_type": "stream",
     "text": [
      "Train MAE score: 4896.205\n",
      "Test MAE score: 4708.946\n"
     ]
    }
   ],
   "source": [
    "#Создаём объект класса LinearRegression\n",
    "lr_model_kbr = linear_model.LinearRegression()\n",
    "\n",
    "#Обучаем модель по МНК\n",
    "lr_model_kbr.fit(X_train, y_train)\n",
    " \n",
    "#Делаем предсказание для тренировочной выборки\n",
    "y_train_predict = lr_model_kbr.predict(X_train)\n",
    "#Делаем предсказание для тестовой выборки\n",
    "y_test_predict = lr_model_kbr.predict(X_test)\n",
    " \n",
    "print(\"Train MAE score: {:.3f}\".format(metrics.mean_absolute_error(y_train, y_train_predict)))\n",
    "print(\"Test MAE score: {:.3f}\".format(metrics.mean_absolute_error(y_test, y_test_predict)))"
   ]
  },
  {
   "cell_type": "markdown",
   "metadata": {},
   "source": [
    "## Вывод"
   ]
  },
  {
   "cell_type": "markdown",
   "metadata": {},
   "source": [
    "Сравнение методов отбора признаков RFE и SelectKBest\n",
    "\n",
    "На основе представленных данных о метриках MAE (Mean Absolute Error) для двух подходов:"
   ]
  },
  {
   "cell_type": "markdown",
   "metadata": {},
   "source": [
    "### Метод RFE (Recursive Feature Elimination)\n",
    "\n",
    "* Выбранные признаки: year, cylinders, lat\n",
    "\n",
    "* Train MAE: 5283.260\n",
    "\n",
    "* Test MAE: 5096.570"
   ]
  },
  {
   "cell_type": "markdown",
   "metadata": {},
   "source": [
    "### Метод SelectKBest\n",
    "* Выбранные признаки: year, cylinders, odometer\n",
    "\n",
    "* Train MAE: 4896.205\n",
    "\n",
    "* Test MAE: 4708.946"
   ]
  },
  {
   "cell_type": "markdown",
   "metadata": {},
   "source": [
    "**Какой метод лучше?** Метод SelectKBest показал меньшие значения MAE (как на обучающей, так и на тестовой выборках). Меньший MAE говорит о том, что модель делает более точные предсказания. Это позволяет сделать вывод, что SelectKBest оказался более эффективным для данной задачи отбора признаков.\n",
    "\n",
    "**Вывод:** Рекомендуется использовать метод SelectKBest, так как он улучшил качество модели, выбрав более релевантные признаки (в данном случае: year, cylinders, odometer)."
   ]
  }
 ],
 "metadata": {
  "kernelspec": {
   "display_name": "Python 3",
   "language": "python",
   "name": "python3"
  },
  "language_info": {
   "codemirror_mode": {
    "name": "ipython",
    "version": 3
   },
   "file_extension": ".py",
   "mimetype": "text/x-python",
   "name": "python",
   "nbconvert_exporter": "python",
   "pygments_lexer": "ipython3",
   "version": "3.12.0"
  }
 },
 "nbformat": 4,
 "nbformat_minor": 2
}
